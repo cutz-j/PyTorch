{
 "cells": [
  {
   "cell_type": "code",
   "execution_count": 1,
   "metadata": {},
   "outputs": [],
   "source": [
    "import torch\n",
    "import string\n",
    "from torch import nn, optim\n",
    "from torch.utils.data import (Dataset, DataLoader, TensorDataset)\n",
    "import tqdm\n",
    "from statistics import mean"
   ]
  },
  {
   "cell_type": "code",
   "execution_count": 2,
   "metadata": {},
   "outputs": [],
   "source": [
    "all_chars = string.printable\n",
    "vocab_size = len(all_chars)\n",
    "vocab_dict = dict((c, i) for (i, c) in enumerate(all_chars))\n",
    "\n",
    "def str2ints(s, vocab_dict):\n",
    "    return [vocab_dict[c] for c in s]\n",
    "\n",
    "def ints2str(x, vocab_array):\n",
    "    return \"\".join([vocab_array[i] for i in x])"
   ]
  },
  {
   "cell_type": "code",
   "execution_count": 3,
   "metadata": {},
   "outputs": [],
   "source": [
    "class ShakespearDataset(Dataset):\n",
    "    def __init__(self, path, chunk_size=200):\n",
    "        # 수치 리스트 변환\n",
    "        data = str2ints(open(path).read().strip(), vocab_dict)\n",
    "        # size split\n",
    "        data = torch.tensor(data, dtype=torch.int64).split(chunk_size)\n",
    "        if len(data[-1]) < chunk_size:\n",
    "            data = data[:-1]\n",
    "        self.data = data\n",
    "        self.n_chunks = len(self.data)\n",
    "    \n",
    "    def __len__(self):\n",
    "        return self.n_chunks\n",
    "    \n",
    "    def __getitem__(self, idx):\n",
    "        return self.data[idx]"
   ]
  },
  {
   "cell_type": "code",
   "execution_count": 4,
   "metadata": {},
   "outputs": [],
   "source": [
    "ds = ShakespearDataset(\"d:/data/tinyshakespeare.txt\", chunk_size=200)\n",
    "loader = DataLoader(ds, batch_size=32, shuffle=True, num_workers=0)"
   ]
  },
  {
   "cell_type": "code",
   "execution_count": 5,
   "metadata": {},
   "outputs": [],
   "source": [
    "class SequenceGenerationNet(nn.Module):\n",
    "    def __init__(self, num_embeddings, embedding_dim=50, hidden_size=50, num_layers=1, dropout=0.2):\n",
    "        super().__init__()\n",
    "        self.emb = nn.Embedding(num_embeddings=num_embeddings, embedding_dim=embedding_dim)\n",
    "        self.lstm = nn.LSTM(embedding_dim, hidden_size, num_layers, batch_first=True, dropout=dropout)\n",
    "        self.linear = nn.Linear(hidden_size, num_embeddings)\n",
    "    \n",
    "    def forward(self, x, h0=None):\n",
    "        x = self.emb(x)\n",
    "        x, h = self.lstm(x, h0)\n",
    "        x = self.linear(x)\n",
    "        return x, h"
   ]
  },
  {
   "cell_type": "code",
   "execution_count": 6,
   "metadata": {},
   "outputs": [],
   "source": [
    "def generated_seq(net, start_phrase=\"The King said \", length=200, temperature=0.8, device='cuda:0'):\n",
    "    net.eval()  # 평가모드\n",
    "    results = []\n",
    "    start_tensor = torch.tensor(str2ints(start_phrase, vocab_dict), dtype=torch.int64).to(device)\n",
    "    x0 = start_tensor.unsqueeze(0)\n",
    "    o, h = net(x0)\n",
    "    out_dist = o[:, -1].view(-1).exp()\n",
    "    top_i = torch.multinomial(out_dist, 1)[0]\n",
    "    results.append(top_i)\n",
    "    \n",
    "    for i in range(length):\n",
    "        inp = torch.tensor([[top_i]],dtype=torch.int64)\n",
    "        inp = inp.to(device)\n",
    "        o, h = net(inp, h)\n",
    "        out_dist = o.view(-1).exp()\n",
    "        top_i = torch.multinomial(out_dist, 1)[0]\n",
    "        results.append(top_i)\n",
    "    \n",
    "    return start_phrase + ints2str(results, all_chars)\n",
    "    "
   ]
  },
  {
   "cell_type": "code",
   "execution_count": 7,
   "metadata": {},
   "outputs": [
    {
     "name": "stderr",
     "output_type": "stream",
     "text": [
      "100%|████████████████████████████████████████████████████████████████████████████████| 175/175 [00:08<00:00, 22.32it/s]\n"
     ]
    },
    {
     "name": "stdout",
     "output_type": "stream",
     "text": [
      "0 3.4941707597460065\n",
      "The King said T,hnqrhn nh s wppuLoyneWeet,T amdOre nu,euwohRK\n",
      "ourrTe \n",
      "N W  unu roonell\n",
      " tau ce\n",
      "\n",
      "aPeUNosAuNuthoyhehm   ensdHcA emyUat uiWa\n",
      "oi \n",
      "s\n",
      "no e,taufotVw  vA<t  ltsanedi!  l denaesT:ty?ieb oip DnhC  talhsheLut d\n"
     ]
    },
    {
     "name": "stderr",
     "output_type": "stream",
     "text": [
      "100%|████████████████████████████████████████████████████████████████████████████████| 175/175 [00:07<00:00, 21.98it/s]\n"
     ]
    },
    {
     "name": "stdout",
     "output_type": "stream",
     "text": [
      "1 3.077281791142055\n",
      "The King said yes fld ,e,\n",
      "Mn csunt dowe reregum rit, thisas snnawe\n",
      "\n",
      " at'e ws amooiyanHld doks,,I ,Wsgah tar meorocan gpon orholy sh.'' wttn has i?mgmes lrlacorsd s is tiioo's, . lvr ahe Ytlo'uinil,ea Bnraor,\n",
      "Ir\n",
      "k,ei\n"
     ]
    },
    {
     "name": "stderr",
     "output_type": "stream",
     "text": [
      "100%|████████████████████████████████████████████████████████████████████████████████| 175/175 [00:07<00:00, 22.11it/s]\n"
     ]
    },
    {
     "name": "stdout",
     "output_type": "stream",
     "text": [
      "2 2.6479409967150005\n",
      "The King said nohyr I lound..\n",
      ":int\n",
      "Tehe, ay iugad at lern:net she phew hers agae?Lgher, cake nrasitf fon' an.\n",
      "\n",
      "ODeOSEETL:\n",
      "Nheel as yimor biwet thecs tryg sdets avsast an cwimr toss wy\n",
      "Ole zhe, ink I ehlo,:, Von.\n",
      "I t\n"
     ]
    },
    {
     "name": "stderr",
     "output_type": "stream",
     "text": [
      "100%|████████████████████████████████████████████████████████████████████████████████| 175/175 [00:08<00:00, 21.71it/s]\n"
     ]
    },
    {
     "name": "stdout",
     "output_type": "stream",
     "text": [
      "3 2.4426632145472937\n",
      "The King said gofersher saghe cove le sninf y'cany am nohe corerd, an!\n",
      "Lhasa in se; eeuunug; laan wind ithal hilms me ttlorghe erey be\n",
      "Bhict tilsrts tehe the chawe, fireu?\n",
      "Tad dalg shnas ar\n",
      "She fhoun mhagulguus ponf\n"
     ]
    },
    {
     "name": "stderr",
     "output_type": "stream",
     "text": [
      "100%|████████████████████████████████████████████████████████████████████████████████| 175/175 [00:08<00:00, 21.81it/s]\n"
     ]
    },
    {
     "name": "stdout",
     "output_type": "stream",
     "text": [
      "4 2.3376202133723667\n",
      "The King said fapand as ipss at in font\n",
      "\n",
      " In yo mustes hisgelr,,\n",
      "Wros me deavals dodlincasce the I thol fiw, yipbet leaum.\n",
      "Whan?\n",
      "Bund ther Yenter ien fiy thin beid me pas!\n",
      "\n",
      "OTURMENY:\n",
      "Tor is ibans soceom\n",
      "Iu;\n",
      "Tqtoll l\n"
     ]
    },
    {
     "name": "stderr",
     "output_type": "stream",
     "text": [
      "100%|████████████████████████████████████████████████████████████████████████████████| 175/175 [00:07<00:00, 22.04it/s]\n"
     ]
    },
    {
     "name": "stdout",
     "output_type": "stream",
     "text": [
      "5 2.2636423574175155\n",
      "The King said cor.\n",
      " \n",
      "DRKCERNINE\n",
      "I:\n",
      "Lhou theme hererithertint:\n",
      "Mould, Moh davaivou lion,' it ahd\n",
      "Feo, ley wawr.\n",
      "\n",
      "BFICEWO:\n",
      "Bome ove  omsstered snpicriitylade'f'es wourst:\n",
      "Cotite satle thy the lat she woaligirt noy you\n"
     ]
    },
    {
     "name": "stderr",
     "output_type": "stream",
     "text": [
      "100%|████████████████████████████████████████████████████████████████████████████████| 175/175 [00:08<00:00, 23.36it/s]\n"
     ]
    },
    {
     "name": "stdout",
     "output_type": "stream",
     "text": [
      "6 2.1999560696738105\n",
      "The King said hargem ouot therede on Tath thou o risced of ugate-shave\n",
      "That os,ing wunaptan anp sopt mich cralfene in misghets thilt,\n",
      "Shen I, weroshe\n",
      "\n",
      "Phenresde sheify.\n",
      "\n",
      "RAINGIO RTIOS:\n",
      "Wo praten kow nall shotw yold \n"
     ]
    },
    {
     "name": "stderr",
     "output_type": "stream",
     "text": [
      "100%|████████████████████████████████████████████████████████████████████████████████| 175/175 [00:07<00:00, 23.58it/s]\n"
     ]
    },
    {
     "name": "stdout",
     "output_type": "stream",
     "text": [
      "7 2.142584639957973\n",
      "The King said not it fuisibke\n",
      "3wes I momut kath seout; father.\n",
      "\n",
      "Caole in mous My ald at to Ra woth you woll doths daths'd, sue wo thaive: dath or nom a this syive hoth hins mivesh\n",
      "That ceed to dear s'gram rayues'd, \n"
     ]
    },
    {
     "name": "stderr",
     "output_type": "stream",
     "text": [
      "100%|████████████████████████████████████████████████████████████████████████████████| 175/175 [00:08<00:00, 21.98it/s]\n"
     ]
    },
    {
     "name": "stdout",
     "output_type": "stream",
     "text": [
      "8 2.0930381311689104\n",
      "The King said hall you do,\n",
      "Thas of, we ted tuttuiweas theay saust,\n",
      "Onar:\n",
      "But;\n",
      "Buse\n",
      "Herd the contterothar, the jiter.\n",
      "\n",
      "OUKA:\n",
      "/ing's this Sloyors: raveth; not dumtint, for,\n",
      "Low's youf thus the cereal-dellive shath Wey\n"
     ]
    },
    {
     "name": "stderr",
     "output_type": "stream",
     "text": [
      "100%|████████████████████████████████████████████████████████████████████████████████| 175/175 [00:07<00:00, 22.04it/s]\n"
     ]
    },
    {
     "name": "stdout",
     "output_type": "stream",
     "text": [
      "9 2.048471222605024\n",
      "The King said the diave, cowfnche puamirork, beasiegh long, by thef 'memen fant\n",
      "Varocest:\n",
      "To he for we rpavine paust put thes-aw patous irest wawlringbus witrous, cilxeau; lomes age ned, cowacl'dinceng:\n",
      "Tiver you ta\n"
     ]
    },
    {
     "name": "stderr",
     "output_type": "stream",
     "text": [
      "100%|████████████████████████████████████████████████████████████████████████████████| 175/175 [00:08<00:00, 21.32it/s]\n"
     ]
    },
    {
     "name": "stdout",
     "output_type": "stream",
     "text": [
      "10 2.010843676839556\n",
      "The King said Boves, Wolfente. Ates,\n",
      "O theo Need and but musty there\n",
      "To biilses tht it, enken.\n",
      "\n",
      "CLUCERINIURE:\n",
      "I Andurterd wis tous, to angs op not nop I daccarl wemard,\n",
      "Citoo so?\n",
      "Shes in by, Hisheld not weer,\n",
      "In of \n"
     ]
    },
    {
     "name": "stderr",
     "output_type": "stream",
     "text": [
      "100%|████████████████████████████████████████████████████████████████████████████████| 175/175 [00:08<00:00, 20.08it/s]\n"
     ]
    },
    {
     "name": "stdout",
     "output_type": "stream",
     "text": [
      "11 1.9757169539587838\n",
      "The King said by comceld moded: chim that me thae of to hive bued\n",
      "Oo like the lobg'ds\n",
      "Castem, died thy a bine I me on thagh eyement leatees, gradined to seos!\n",
      "Your doulven lit' destondd hear, I fool.\n",
      " why not my dou\n"
     ]
    },
    {
     "name": "stderr",
     "output_type": "stream",
     "text": [
      "100%|████████████████████████████████████████████████████████████████████████████████| 175/175 [00:08<00:00, 21.72it/s]\n"
     ]
    },
    {
     "name": "stdout",
     "output_type": "stream",
     "text": [
      "12 1.9451570081710816\n",
      "The King said hem to god?\n",
      "Hot but vero, if you saukete;\n",
      "In to came he dale stucc:\n",
      "Witpes, on kount, have is as\n",
      "Casented his magistnentlough,\n",
      "And kram:\n",
      "Ip thall soo sint,\n",
      "I lain the wen\n",
      "Welm, stillss, but that is the\n"
     ]
    },
    {
     "name": "stderr",
     "output_type": "stream",
     "text": [
      "100%|████████████████████████████████████████████████████████████████████████████████| 175/175 [00:08<00:00, 22.71it/s]\n"
     ]
    },
    {
     "name": "stdout",
     "output_type": "stream",
     "text": [
      "13 1.920146073613848\n",
      "The King said I sowler,\n",
      "Afcastot miligptlard, wissevt shath;\n",
      "Ame, we yo pival; hat go nee sulp;\n",
      "And serke? I, thesser rove hems How'g you hake geol's, mo\n",
      "coot of tweraw out up valr.\n",
      "\n",
      "CROCERY:\n",
      "Whis brescest wity fipe\n"
     ]
    },
    {
     "name": "stderr",
     "output_type": "stream",
     "text": [
      "100%|████████████████████████████████████████████████████████████████████████████████| 175/175 [00:08<00:00, 23.88it/s]\n"
     ]
    },
    {
     "name": "stdout",
     "output_type": "stream",
     "text": [
      "14 1.8976278400421143\n",
      "The King said to thee spense bemens,\n",
      "A is ressebmence it winge; Shave Icard, los! and that nike\n",
      "As to his I may plyster a a mout, the Theated!\n",
      "Sed whild to foripuiced to coughh Weers,\n",
      "I of tiths imfittior: and a ' t\n"
     ]
    },
    {
     "name": "stderr",
     "output_type": "stream",
     "text": [
      "100%|████████████████████████████████████████████████████████████████████████████████| 175/175 [00:08<00:00, 21.80it/s]\n"
     ]
    },
    {
     "name": "stdout",
     "output_type": "stream",
     "text": [
      "15 1.8776727260862078\n",
      "The King said leign eetings\n",
      "To thep eet thif of me stall and I're the wits is you not endting the foar.\n",
      "Am death'd diste-you grord fease inowiking langs\n",
      "Webounds, you pranerfy, both. Masagy am\n",
      "And I ism lent with an\n"
     ]
    },
    {
     "name": "stderr",
     "output_type": "stream",
     "text": [
      "100%|████████████████████████████████████████████████████████████████████████████████| 175/175 [00:08<00:00, 21.14it/s]\n"
     ]
    },
    {
     "name": "stdout",
     "output_type": "stream",
     "text": [
      "16 1.8607400505883354\n",
      "The King said that oosareing.\n",
      "\n",
      "BUMIO:\n",
      "Neath this entulus grove is me omferord, for men am these',\n",
      "And but sceld, by gay whon and beorge,\n",
      "And she due, conster worgeds hatter in. You milest's were hither\n",
      "The pemes.\n",
      "\n",
      "S\n"
     ]
    },
    {
     "name": "stderr",
     "output_type": "stream",
     "text": [
      "100%|████████████████████████████████████████████████████████████████████████████████| 175/175 [00:08<00:00, 21.10it/s]\n"
     ]
    },
    {
     "name": "stdout",
     "output_type": "stream",
     "text": [
      "17 1.845078274181911\n",
      "The King said our beweln\n",
      "Saking that that of hoo all sesting not\n",
      "To know I and ettarse's radaces thou? where-ly were costs be:\n",
      "Not crap nochle frow like:-Mark thou to in,\n",
      "Baip! thou nothen prining him of the dow\n",
      "It \n"
     ]
    },
    {
     "name": "stderr",
     "output_type": "stream",
     "text": [
      "100%|████████████████████████████████████████████████████████████████████████████████| 175/175 [00:08<00:00, 19.46it/s]\n"
     ]
    },
    {
     "name": "stdout",
     "output_type": "stream",
     "text": [
      "18 1.8307210663386753\n",
      "The King said buter, I neven:\n",
      "Ark: Marent ate come; jufe were cate oniness\n",
      "And him Pradwer ite now groud that lake at the\n",
      "'Tho prount own coared feading,\n",
      "Thee's, and mate, tho panding shas willthis;\n",
      "For thing the go\n"
     ]
    },
    {
     "name": "stderr",
     "output_type": "stream",
     "text": [
      "100%|████████████████████████████████████████████████████████████████████████████████| 175/175 [00:08<00:00, 21.90it/s]\n"
     ]
    },
    {
     "name": "stdout",
     "output_type": "stream",
     "text": [
      "19 1.8170522798810687\n",
      "The King said bay!\n",
      "With stay mo Raind, for not well?\n",
      "\n",
      "GLEUTUS:\n",
      "Eve will varelly arust the gravay hath to my in liveash your do\n",
      "ctreviin yount. whathred swo'd her oce.\n",
      "\n",
      "POMTARD IF me levist and angiver lowd thou sest\n"
     ]
    },
    {
     "name": "stderr",
     "output_type": "stream",
     "text": [
      "100%|████████████████████████████████████████████████████████████████████████████████| 175/175 [00:08<00:00, 21.87it/s]\n"
     ]
    },
    {
     "name": "stdout",
     "output_type": "stream",
     "text": [
      "20 1.8047254242215838\n",
      "The King said on from be anow he conting best;\n",
      "What. at mach, to lest bikeeve,\n",
      "The given syearntle a tod deakist nose\n",
      "Andmien foon's boyd at say\n",
      "Trufle pack that my to the ore;\n",
      "Spessing that of surming a scaly-slabe\n"
     ]
    },
    {
     "name": "stderr",
     "output_type": "stream",
     "text": [
      "100%|████████████████████████████████████████████████████████████████████████████████| 175/175 [00:08<00:00, 20.84it/s]\n"
     ]
    },
    {
     "name": "stdout",
     "output_type": "stream",
     "text": [
      "21 1.7942534153802054\n",
      "The King said not m- im:\n",
      "Fake iceos, confress he messy heimspest I premence,\n",
      "And no hath with tomion niming then and dear!\n",
      "\n",
      "GREMI:\n",
      "\n",
      "ANTADIA HARD IV:\n",
      "Andet mlight it your comhod, I sourion your indet as\n",
      "hort lanty de\n"
     ]
    },
    {
     "name": "stderr",
     "output_type": "stream",
     "text": [
      "100%|████████████████████████████████████████████████████████████████████████████████| 175/175 [00:08<00:00, 21.60it/s]\n"
     ]
    },
    {
     "name": "stdout",
     "output_type": "stream",
     "text": [
      "22 1.7844339786257062\n",
      "The King said and alivers a fees;\n",
      "The daud to goder'd with fore were?\n",
      "\n",
      "VORRUMTOS:\n",
      "Whight the inding your sone, this brokan, thing's to be in make;\n",
      "Care goub your may, and but, the shall wout youms was.\n",
      "\n",
      "GRELIA:\n",
      "Her \n"
     ]
    },
    {
     "name": "stderr",
     "output_type": "stream",
     "text": [
      "100%|████████████████████████████████████████████████████████████████████████████████| 175/175 [00:07<00:00, 21.93it/s]\n"
     ]
    },
    {
     "name": "stdout",
     "output_type": "stream",
     "text": [
      "23 1.7739604888643536\n",
      "The King said that thouse fair,\n",
      "That they; god slime! Themed, mumeon a passebuned\n",
      "sull they! worm, Pome leady,\n",
      "Them amnind and not forthers to priend's to\n",
      "Wold! rajeacter come.\n",
      "That thy hours to maker thou fint stay\n"
     ]
    },
    {
     "name": "stderr",
     "output_type": "stream",
     "text": [
      "100%|████████████████████████████████████████████████████████████████████████████████| 175/175 [00:08<00:00, 21.84it/s]\n"
     ]
    },
    {
     "name": "stdout",
     "output_type": "stream",
     "text": [
      "24 1.765593491281782\n",
      "The King said your dost guring.\n",
      "\n",
      "ANTIO:\n",
      "Seac's hoogh the forul, her there oneon as staid\n",
      "You, no wrue he hear! be castel.\n",
      "\n",
      "Secvess.\n",
      "\n",
      "DUKE OF YORK:\n",
      "Well sevis than loid sexprest me a where\n",
      "That bamentt! Seren our, wo\n"
     ]
    },
    {
     "name": "stderr",
     "output_type": "stream",
     "text": [
      "100%|████████████████████████████████████████████████████████████████████████████████| 175/175 [00:08<00:00, 24.36it/s]\n"
     ]
    },
    {
     "name": "stdout",
     "output_type": "stream",
     "text": [
      "25 1.7565426451819284\n",
      "The King said he to popgellible\n",
      "There he wour her this adlinmed on\n",
      "And restreate heus and this was use. For wouge peeced suse furthing.\n",
      "\n",
      "MARGILEZO:\n",
      "And and geed us it, my latess mnessep aning durifist.\n",
      "\n",
      "Secerive:\n",
      "I \n"
     ]
    },
    {
     "name": "stderr",
     "output_type": "stream",
     "text": [
      "100%|████████████████████████████████████████████████████████████████████████████████| 175/175 [00:07<00:00, 22.08it/s]\n"
     ]
    },
    {
     "name": "stdout",
     "output_type": "stream",
     "text": [
      "26 1.7493378107888358\n",
      "The King said do the litt.\n",
      "\n",
      "QUEEN ELIZABETH:\n",
      "My cuth; and he have bets is diest: reatire\n",
      "Thou maigout are me gover.\n",
      "\n",
      "Cionite:\n",
      "I'll allious tones Lerferssice thim syel,\n",
      "Womere.\n",
      "\n",
      "QUEEN ELA:\n",
      "Comhed, the maber one the d\n"
     ]
    },
    {
     "name": "stderr",
     "output_type": "stream",
     "text": [
      "100%|████████████████████████████████████████████████████████████████████████████████| 175/175 [00:07<00:00, 21.99it/s]\n"
     ]
    },
    {
     "name": "stdout",
     "output_type": "stream",
     "text": [
      "27 1.7420799875259398\n",
      "The King said thy haciase\n",
      "Guarly man croved betemorer the ban that, copteraty.\n",
      "So the commanse lomd shimn,\n",
      "Will magite, by a come chenay's.\n",
      "\n",
      "MENRIGUS:\n",
      "Yaghtersizen thint my one that cours, when he\n",
      "Thy told, bower he\n"
     ]
    },
    {
     "name": "stderr",
     "output_type": "stream",
     "text": [
      "100%|████████████████████████████████████████████████████████████████████████████████| 175/175 [00:08<00:00, 22.94it/s]\n"
     ]
    },
    {
     "name": "stdout",
     "output_type": "stream",
     "text": [
      "28 1.735456588608878\n",
      "The King said ell pret ugEd as\n",
      "Thou his parth's well yak would was man\n",
      "As himient-it of use further.\n",
      "\n",
      "ANTIGOSTUS:\n",
      "He prockln, hastery evers like my briut itlysull\n",
      "hay, and the courtague.\n",
      "\n",
      "MARIEL:\n",
      "Auchmselvoggen of t\n"
     ]
    },
    {
     "name": "stderr",
     "output_type": "stream",
     "text": [
      "100%|████████████████████████████████████████████████████████████████████████████████| 175/175 [00:07<00:00, 21.92it/s]\n"
     ]
    },
    {
     "name": "stdout",
     "output_type": "stream",
     "text": [
      "29 1.7282421786444528\n",
      "The King said in compignest of Bosh'd in the will.\n",
      "\n",
      "FADAF ARILA:\n",
      "And not and ald have hand yath?\n",
      "Ilin to bethed this the mage serve\n",
      "Till title have that mrys thy bray-not have ragreat!\n",
      "So my down; I would 'to man;\n",
      "T\n"
     ]
    },
    {
     "name": "stderr",
     "output_type": "stream",
     "text": [
      "100%|████████████████████████████████████████████████████████████████████████████████| 175/175 [00:07<00:00, 21.95it/s]\n"
     ]
    },
    {
     "name": "stdout",
     "output_type": "stream",
     "text": [
      "30 1.7226811715534756\n",
      "The King said thim, and good man he hatberang,\n",
      "We cround is have grive. I re this his was cold'd\n",
      "Op it upon in to hear me hich it\n",
      "such all sorether a yiess; I am thise to howe, follow\n",
      "have swere with mon in land, tu\n"
     ]
    },
    {
     "name": "stderr",
     "output_type": "stream",
     "text": [
      "100%|████████████████████████████████████████████████████████████████████████████████| 175/175 [00:07<00:00, 24.94it/s]\n"
     ]
    },
    {
     "name": "stdout",
     "output_type": "stream",
     "text": [
      "31 1.7172965833118983\n",
      "The King said with out brow;\n",
      "Whose cannot, the feath the losk and might maggurion of\n",
      "Kile that that thee he, that for;\n",
      "My gropp Cirwould is will when have but as\n",
      "that it in biscule it him, this know own as,\n",
      "Threakes\n"
     ]
    },
    {
     "name": "stderr",
     "output_type": "stream",
     "text": [
      "100%|████████████████████████████████████████████████████████████████████████████████| 175/175 [00:07<00:00, 22.04it/s]\n"
     ]
    },
    {
     "name": "stdout",
     "output_type": "stream",
     "text": [
      "32 1.7120083086831228\n",
      "The King said their the you desceine.\n",
      "And it the rabethier, and hilis? Pfendives,\n",
      "We owf thus kniel and for his archigulds I dore;\n",
      "And be the know, what should but of.\n",
      "\n",
      "ThARYK:\n",
      "Befing On's kefe, sky,, fakere of spea\n"
     ]
    },
    {
     "name": "stderr",
     "output_type": "stream",
     "text": [
      "100%|████████████████████████████████████████████████████████████████████████████████| 175/175 [00:08<00:00, 20.96it/s]\n"
     ]
    },
    {
     "name": "stdout",
     "output_type": "stream",
     "text": [
      "33 1.7062929827826363\n",
      "The King said fair?\n",
      "\n",
      "TerINWANGAR:\n",
      "\n",
      "KING RICHARD II:\n",
      "Unot it and of the for how of atherd,\n",
      "My lely; and you be thissal that end never the anguhten;\n",
      "With thepe, or not your a deighttas\n",
      "Dait. Fit ruttplish better?\n",
      "\n",
      "GRW\n"
     ]
    },
    {
     "name": "stderr",
     "output_type": "stream",
     "text": [
      "100%|████████████████████████████████████████████████████████████████████████████████| 175/175 [00:08<00:00, 20.29it/s]\n"
     ]
    },
    {
     "name": "stdout",
     "output_type": "stream",
     "text": [
      "34 1.7016654164450509\n",
      "The King said all here\n",
      "in ming own a refort, yet?\n",
      "That, ray, marry shill, sit tumer threes eedel, sad:\n",
      "When id or said in in tarm-fore forbal is the.\n",
      "How for newserforsest's from eartht?\n",
      "So graped I pleagh of bedon \n"
     ]
    },
    {
     "name": "stderr",
     "output_type": "stream",
     "text": [
      "100%|████████████████████████████████████████████████████████████████████████████████| 175/175 [00:08<00:00, 20.19it/s]\n"
     ]
    },
    {
     "name": "stdout",
     "output_type": "stream",
     "text": [
      "35 1.69719993523189\n",
      "The King said hest by that stand?\n",
      "\n",
      "COMINIUS:\n",
      "To were?\n",
      "\n",
      "CIRANTA:\n",
      "Swramion her end, acter.\n",
      "\n",
      "PELINN EF we I MoOd: you any encelo; but, whougays it,\n",
      "And me's should bid his breed were's.\n",
      "Go then so verust that I vofe th\n"
     ]
    },
    {
     "name": "stderr",
     "output_type": "stream",
     "text": [
      "100%|████████████████████████████████████████████████████████████████████████████████| 175/175 [00:08<00:00, 22.61it/s]\n"
     ]
    },
    {
     "name": "stdout",
     "output_type": "stream",
     "text": [
      "36 1.6926147311074393\n",
      "The King said of worm-misk for you.\n",
      "\n",
      "KING LEWIS D INFry dudy, live unfold they indpal when, we you oury\n",
      "Terdly him me made give is this secrit,\n",
      "Two my kever this wond my dost and him\n",
      "Then shall of upon, I upened is \n"
     ]
    },
    {
     "name": "stderr",
     "output_type": "stream",
     "text": [
      "100%|████████████████████████████████████████████████████████████████████████████████| 175/175 [00:08<00:00, 22.87it/s]\n"
     ]
    },
    {
     "name": "stdout",
     "output_type": "stream",
     "text": [
      "37 1.689103078160967\n",
      "The King said of slisters with so\n",
      "How gen should shimmanged from nod will soak bedon,\n",
      "For mest no made longerly.\n",
      "\n",
      "GSOSHE:\n",
      "Lord wise dive an lopts torms of offore\n",
      "your hour know, where of the wisk congrace.\n",
      "\n",
      "BENVOLIO\n"
     ]
    },
    {
     "name": "stderr",
     "output_type": "stream",
     "text": [
      "100%|████████████████████████████████████████████████████████████████████████████████| 175/175 [00:08<00:00, 21.00it/s]\n"
     ]
    },
    {
     "name": "stdout",
     "output_type": "stream",
     "text": [
      "38 1.6846113245827812\n",
      "The King said wrots my, when surk; blove bowo\n",
      "As Backer!\n",
      "Them as two here plovs, I oiest it my helf\n",
      "I sawaclly hour,s them time oun,\n",
      "Do losiou timle goodle an Rorsenty you is comas, I wo make eiring comgit.\n",
      "So my pr\n"
     ]
    },
    {
     "name": "stderr",
     "output_type": "stream",
     "text": [
      "100%|████████████████████████████████████████████████████████████████████████████████| 175/175 [00:08<00:00, 21.53it/s]\n"
     ]
    },
    {
     "name": "stdout",
     "output_type": "stream",
     "text": [
      "39 1.680576902798244\n",
      "The King said the in diged fook-reation.\n",
      "This lord never Bairntt.\n",
      "O, Leter't more; thou gote?\n",
      "\n",
      "DUCHESS OF YORK:\n",
      "This the manstring in Rit at hold,\n",
      "It bestrace. Wandio, honguge so:\n",
      "Mucht my onoul that I sparned the r\n"
     ]
    },
    {
     "name": "stderr",
     "output_type": "stream",
     "text": [
      "100%|████████████████████████████████████████████████████████████████████████████████| 175/175 [00:08<00:00, 21.41it/s]\n"
     ]
    },
    {
     "name": "stdout",
     "output_type": "stream",
     "text": [
      "40 1.677054248537336\n",
      "The King said your booy\n",
      "And all a more to sake of that\n",
      "Thank a worth that for thou fears, their with play?\n",
      "\n",
      "VINCENTIO:\n",
      "No viend of you shalrios your very,\n",
      "Thouse eath have life, lett, it his sun these king.\n",
      "Well,--t\n"
     ]
    },
    {
     "name": "stderr",
     "output_type": "stream",
     "text": [
      "100%|████████████████████████████████████████████████████████████████████████████████| 175/175 [00:08<00:00, 22.09it/s]\n"
     ]
    },
    {
     "name": "stdout",
     "output_type": "stream",
     "text": [
      "41 1.6729267515454973\n",
      "The King said wither yall.\n",
      "\n",
      "YORK:\n",
      "Yought please this breach lam are muse, my dead.\n",
      "Halk as pontader of the vimes,\n",
      "All, make the untreake you to beched of here.\n",
      "\n",
      "BRUTUS:\n",
      "Gow: and would do will! Yorl'd my nostling\n",
      "Are\n"
     ]
    },
    {
     "name": "stderr",
     "output_type": "stream",
     "text": [
      "100%|████████████████████████████████████████████████████████████████████████████████| 175/175 [00:08<00:00, 21.49it/s]\n"
     ]
    },
    {
     "name": "stdout",
     "output_type": "stream",
     "text": [
      "42 1.669803730419704\n",
      "The King said benike wente the gods,\n",
      "Thy that head Norther fivion shall my horrest my tip;\n",
      "But to thee us-- my contart:\n",
      "And the gried last my giseming thee?\n",
      "\n",
      "ThARYBELIO:\n",
      "\n",
      "COPINI:\n",
      "We haschinal hould.\n",
      "\n",
      "PETRUCHIO:\n",
      "He a\n"
     ]
    },
    {
     "name": "stderr",
     "output_type": "stream",
     "text": [
      "100%|████████████████████████████████████████████████████████████████████████████████| 175/175 [00:08<00:00, 21.51it/s]\n"
     ]
    },
    {
     "name": "stdout",
     "output_type": "stream",
     "text": [
      "43 1.665913210596357\n",
      "The King said it the mrolded\n",
      "A vight kenelf:\n",
      "Methank and be it the wearachel, but he pyay.\n",
      "\n",
      "VOMENALA:\n",
      "Mmest a tance downt.\n",
      "\n",
      "KING RICHARD II:\n",
      "Metterious bectull do of sin; eon and mer true the may?\n",
      "\n",
      "CLARY VORVELLA:\n",
      "W\n"
     ]
    },
    {
     "name": "stderr",
     "output_type": "stream",
     "text": [
      "100%|████████████████████████████████████████████████████████████████████████████████| 175/175 [00:08<00:00, 23.80it/s]\n"
     ]
    },
    {
     "name": "stdout",
     "output_type": "stream",
     "text": [
      "44 1.6627234683718\n",
      "The King said our hast\n",
      "And a day with this an ints Comece's and I'll ot.\n",
      "\n",
      "DUCHESS OF YORK:\n",
      "Why, to pains, and he brain be not a brow'ld,\n",
      "And tell I'll the min. His off hatfer theu wake,\n",
      "Forbing you jhepent your sugr\n"
     ]
    },
    {
     "name": "stderr",
     "output_type": "stream",
     "text": [
      "100%|████████████████████████████████████████████████████████████████████████████████| 175/175 [00:08<00:00, 21.42it/s]\n"
     ]
    },
    {
     "name": "stdout",
     "output_type": "stream",
     "text": [
      "45 1.659757672718593\n",
      "The King said spay.\n",
      "Bisnizent of well, sping you in the ore,\n",
      "What sescitier roud, There this cold villiving feart?\n",
      "Master not go my say in would\n",
      "You any in ternors--\n",
      "Then cring our ong. I, by ones the feart,\n",
      "But hav\n"
     ]
    },
    {
     "name": "stderr",
     "output_type": "stream",
     "text": [
      "100%|████████████████████████████████████████████████████████████████████████████████| 175/175 [00:07<00:00, 22.07it/s]\n"
     ]
    },
    {
     "name": "stdout",
     "output_type": "stream",
     "text": [
      "46 1.6566435725348336\n",
      "The King said me twange!\n",
      "Vomendess? mastising of my off that and must\n",
      "Your cousses with thather,\n",
      "I do all it blove, my nepy shand refance,\n",
      "And there stough as seceral to the dritten to not\n",
      "Prascainby you all me; a' \n"
     ]
    },
    {
     "name": "stderr",
     "output_type": "stream",
     "text": [
      "100%|████████████████████████████████████████████████████████████████████████████████| 175/175 [00:07<00:00, 21.88it/s]\n"
     ]
    },
    {
     "name": "stdout",
     "output_type": "stream",
     "text": [
      "47 1.654380807876587\n",
      "The King said was will, that you like of in the amopt:\n",
      "Mow and dreatune me doth cark, or Os made,\n",
      "Mest to beer hear true trusle knis our say the tathing of his so\n",
      "If fill ib had froplood, that. langing.\n",
      "\n",
      "GRUMIO:\n",
      "Wha\n"
     ]
    },
    {
     "name": "stderr",
     "output_type": "stream",
     "text": [
      "100%|████████████████████████████████████████████████████████████████████████████████| 175/175 [00:08<00:00, 22.56it/s]\n"
     ]
    },
    {
     "name": "stdout",
     "output_type": "stream",
     "text": [
      "48 1.652270930153983\n",
      "The King said that the other extre's difband,\n",
      "Than sone to-sire were comes verbamity,\n",
      "Then did some may, this is too two?\n",
      "My horse and welt to are follodigns in.\n",
      "\n",
      "Shether:\n",
      "Keer-ngerander: Tellfors, Crubtle yes, but \n"
     ]
    },
    {
     "name": "stderr",
     "output_type": "stream",
     "text": [
      "100%|████████████████████████████████████████████████████████████████████████████████| 175/175 [00:07<00:00, 22.02it/s]\n"
     ]
    },
    {
     "name": "stdout",
     "output_type": "stream",
     "text": [
      "49 1.649499034200396\n",
      "The King said is for is my past\n",
      "Iling very luse; wickinding.\n",
      "\n",
      "KING RICHARD III:\n",
      "Verulue will! a just your bid sught, priens' the chickorgfelice\n",
      "The toodys roy aray, I to the betces him: this goods.\n",
      "\n",
      "GLOUCESTER:\n",
      "Amay\n"
     ]
    }
   ],
   "source": [
    "net = SequenceGenerationNet(vocab_size, embedding_dim=20, hidden_size=50, num_layers=2, dropout=0.1)\n",
    "net.to(\"cuda:0\")\n",
    "opt = optim.Adam(net.parameters())\n",
    "loss_f = nn.CrossEntropyLoss()\n",
    "\n",
    "for epoch in range(50):\n",
    "    net.train()\n",
    "    losses = []\n",
    "    for data in tqdm.tqdm(loader):\n",
    "        x = data[:, :-1]\n",
    "        y = data[:, 1:]\n",
    "        \n",
    "        x = x.to(\"cuda:0\")\n",
    "        y = y.to(\"cuda:0\")\n",
    "        \n",
    "        y_pred, _ = net(x)\n",
    "        loss = loss_f(y_pred.view(-1, vocab_size), y.view(-1))\n",
    "        net.zero_grad()\n",
    "        loss.backward()\n",
    "        opt.step()\n",
    "        losses.append(loss.item())    \n",
    "    print(epoch, mean(losses))\n",
    "    with torch.no_grad():\n",
    "        print(generated_seq(net, device=\"cuda:0\"))"
   ]
  },
  {
   "cell_type": "code",
   "execution_count": null,
   "metadata": {},
   "outputs": [],
   "source": []
  },
  {
   "cell_type": "code",
   "execution_count": null,
   "metadata": {},
   "outputs": [],
   "source": []
  },
  {
   "cell_type": "code",
   "execution_count": null,
   "metadata": {},
   "outputs": [],
   "source": []
  },
  {
   "cell_type": "code",
   "execution_count": null,
   "metadata": {},
   "outputs": [],
   "source": []
  },
  {
   "cell_type": "code",
   "execution_count": null,
   "metadata": {},
   "outputs": [],
   "source": []
  },
  {
   "cell_type": "code",
   "execution_count": null,
   "metadata": {},
   "outputs": [],
   "source": []
  },
  {
   "cell_type": "code",
   "execution_count": null,
   "metadata": {},
   "outputs": [],
   "source": []
  },
  {
   "cell_type": "code",
   "execution_count": null,
   "metadata": {},
   "outputs": [],
   "source": []
  },
  {
   "cell_type": "code",
   "execution_count": null,
   "metadata": {},
   "outputs": [],
   "source": []
  }
 ],
 "metadata": {
  "kernelspec": {
   "display_name": "Python 3",
   "language": "python",
   "name": "python3"
  },
  "language_info": {
   "codemirror_mode": {
    "name": "ipython",
    "version": 3
   },
   "file_extension": ".py",
   "mimetype": "text/x-python",
   "name": "python",
   "nbconvert_exporter": "python",
   "pygments_lexer": "ipython3",
   "version": "3.7.3"
  }
 },
 "nbformat": 4,
 "nbformat_minor": 2
}
